{
 "cells": [
  {
   "cell_type": "markdown",
   "id": "dae16770",
   "metadata": {},
   "source": [
    "# Optimización escalar con SymPy: criterio conocido"
   ]
  },
  {
   "cell_type": "markdown",
   "id": "09ba4558",
   "metadata": {},
   "source": [
    "Para la siguientes funciones encuentre los puntos críticos, grafique y diga si éste se trata de un máximo o mínimo, local o global."
   ]
  },
  {
   "cell_type": "markdown",
   "id": "3600ad24",
   "metadata": {
    "colab_type": "text",
    "id": "rZsQPEsnE-b9"
   },
   "source": [
    "1. $f(x)=x+\\frac{1}{x^2}$"
   ]
  },
  {
   "cell_type": "code",
   "execution_count": null,
   "id": "aa844fa8",
   "metadata": {},
   "outputs": [
    {
     "data": {
      "text/plain": [
       "'hola'"
      ]
     },
     "execution_count": 2,
     "metadata": {},
     "output_type": "execute_result"
    }
   ],
   "source": [
    "import sympy as sym\n",
    "import numpy as np\n",
    "import matplotlib.pyplot as pl\n",
    "\n",
    "def f(x):\n",
    "    return x + (1 / (x ** 2))\n",
    "\n",
    "\n",
    "x = sym.var('x')\n",
    "print(f(x))\n",
    "dF = sym.diff(f(x), x)\n",
    "print(dF)\n",
    "c = sym.solve(dF, x)\n",
    "print(c)\n",
    "\n",
    "x_nums = np.linspace(1,4,100)\n",
    "plt.plot(x_nums, f(x_nums))\n",
    "plt.plot(c[0], f(c[0]), 'r*', ms=10)\n",
    "plt.grid()\n",
    "plt.show()\n",
    "\n",
    "# Al observar la grafica pude notar que es un punto minimo global"
   ]
  },
  {
   "cell_type": "markdown",
   "id": "39cfc1dd",
   "metadata": {},
   "source": [
    "2. $f(x)=1260+117x-9x^2$"
   ]
  },
  {
   "cell_type": "code",
   "execution_count": null,
   "id": "75921cf8",
   "metadata": {},
   "outputs": [],
   "source": [
    "def f(x):\n",
    "    return 1260 + (117*x) - (9 * (x**2))\n",
    "\n",
    "print(\"\\n ejercisio 2:\")\n",
    "x = sym.var('x')\n",
    "print(f(x))\n",
    "dF = sym.diff(f(x), x)\n",
    "c = sym.solve(dF, x)\n",
    "print(c)\n",
    "\n",
    "x_nums = np.linspace(0, 15, 100)\n",
    "plt.plot(x_nums, f(x_nums))\n",
    "plt.plot(c[0], f(c[0]), 'r*', ms=10)\n",
    "plt.grid()\n",
    "plt.show()\n",
    "\n",
    "# Al observar la grafica pude notar que es un punto maximo global"
   ]
  },
  {
   "cell_type": "markdown",
   "id": "65206d6e",
   "metadata": {},
   "source": [
    "3. $f(x)=5+x+\\frac{4}{x}$, para $x>0$"
   ]
  },
  {
   "cell_type": "code",
   "execution_count": null,
   "id": "bf7f119c",
   "metadata": {},
   "outputs": [],
   "source": [
    "def f(x):\n",
    "    return 5 + x + (4/x)\n",
    "\n",
    "\n",
    "print(\"\\n ejercisio 3:\")\n",
    "x = sym.var('x', positive=True)\n",
    "print(f(x))\n",
    "dF = sym.diff(f(x), x)\n",
    "c = sym.solve(dF, x)\n",
    "print(c)\n",
    "\n",
    "x_nums = np.linspace(0.1, 10, 100)\n",
    "plt.plot(x_nums, f(x_nums))\n",
    "plt.plot(c[0], f(c[0]), 'r*', ms=10)\n",
    "plt.grid()\n",
    "plt.show()\n",
    "\n",
    "# Al observar la grafica pude notar que es un punto minimo global"
   ]
  },
  {
   "cell_type": "markdown",
   "id": "8fc86115",
   "metadata": {
    "colab_type": "text",
    "id": "WSf2O-FsGYtu"
   },
   "source": [
    "4. $f(x)=\\frac{15x}{2}\\sqrt{\\frac{x}{x-30}}$"
   ]
  },
  {
   "cell_type": "code",
   "execution_count": null,
   "id": "aaeb2835",
   "metadata": {},
   "outputs": [],
   "source": [
    "print(\"\\n ejercisio 4:\")\n",
    "x = sym.symbols('x', real=True)\n",
    "f_sym = (15 * x / 2) * sym.sqrt(x / (x - 30))\n",
    "\n",
    "dF = sym.diff(f_sym, x)\n",
    "c = sym.solve(dF, x)\n",
    "print(\"Puntos críticos:\", c)\n",
    "\n",
    "f_num = sym.lambdify(x, f_sym, 'numpy')\n",
    "\n",
    "x_nums = np.linspace(32, 55, 100)\n",
    "plt.plot(x_nums, f_num(x_nums))\n",
    "plt.plot(c[0], f_sym.subs(x, c[0]), 'r*', ms=10)\n",
    "plt.plot(c[1], f_sym.subs(x, c[1]), 'r*', ms=10)\n",
    "plt.grid()\n",
    "plt.show()\n",
    "# Al observar la grafica pude notar que hay dos puntos uno es un minimo global que se encuentra en 0 0\n",
    "# lo cual esta entre medias de puntos imaginarios por lo que no pude graficar hasta ahi\n",
    "# y el otro es un punto minimo local"
   ]
  },
  {
   "cell_type": "markdown",
   "id": "bd7f30fd",
   "metadata": {},
   "source": [
    "5. $f(x)=6-2x+\\sqrt{18-2x^2}$, para $-3\\leq x\\leq 3$"
   ]
  },
  {
   "cell_type": "code",
   "execution_count": null,
   "id": "1d255e07",
   "metadata": {},
   "outputs": [],
   "source": [
    "print(\"\\n ejercisio 5:\")\n",
    "x = sym.symbols('x', real=True)\n",
    "f_sym = (6-(2*x)) + sym.sqrt(18 - (2*(x**2)))\n",
    "print(f_sym)\n",
    "dF = sym.diff(f_sym, x)\n",
    "c = sym.solve(dF, x)\n",
    "print(\"Puntos críticos:\", c)\n",
    "\n",
    "# no supe que hacer tiene unicamente un punto critico de raiz negativa"
   ]
  },
  {
   "cell_type": "markdown",
   "id": "de2ea1f9",
   "metadata": {},
   "source": [
    "6. $f(x)=\\frac{1}{4}x^4+\\frac{1}{3}x^3-x^2$ en el intervalo $[-3,1.7]$"
   ]
  },
  {
   "cell_type": "code",
   "execution_count": null,
   "id": "084657cf",
   "metadata": {},
   "outputs": [],
   "source": [
    "def f(x):\n",
    "    return ((1/4)*(x**4)) + ((1/3)*(x**3)) - (x**2)\n",
    "\n",
    "\n",
    "print(\"\\n ejercisio 6:\")\n",
    "x = sym.var('x', real=True, positive=True)\n",
    "print(f(x))\n",
    "dF = sym.diff(f(x), x)\n",
    "print(dF)\n",
    "c = sym.solve(dF, x)\n",
    "print(c)\n",
    "\n",
    "x_nums = np.linspace(-3.1, 1.8, 100)\n",
    "plt.plot(x_nums, f(x_nums))\n",
    "plt.plot(c[0], f(c[0]), 'r*', ms=10)\n",
    "plt.grid()\n",
    "plt.show()\n",
    "\n",
    "# Al observar la grafica pude notar que es un punto minimo local"
   ]
  },
  {
   "cell_type": "markdown",
   "id": "4fdfe534",
   "metadata": {},
   "source": [
    "7. $f(x)=100(1+\\cos(x)\\sin(x))$, para $x\\in[0.\\frac{\\pi}{2}]$"
   ]
  },
  {
   "cell_type": "code",
   "execution_count": null,
   "id": "354e304b",
   "metadata": {},
   "outputs": [],
   "source": [
    "print(\"\\n ejercisio 7:\")\n",
    "x = sym.symbols('x')\n",
    "f_sym = 100 * (1 + (sym.cos(x)*sym.sin(x)))\n",
    "\n",
    "dF = sym.diff(f_sym, x)\n",
    "c = sym.solve(dF, x)\n",
    "print(\"Puntos críticos:\", c)\n",
    "\n",
    "f_num = sym.lambdify(x, f_sym, 'numpy')\n",
    "\n",
    "x_nums = np.linspace(0, np.pi/2, 100)\n",
    "plt.plot(x_nums, f_num(x_nums))\n",
    "plt.plot(c[1], f_num(float(c[1])), 'r*', ms=10)\n",
    "plt.grid()\n",
    "plt.show()\n",
    "\n",
    "# Al observar la grafica pude notar que es un punto maximo global"
   ]
  }
 ],
 "metadata": {
  "kernelspec": {
   "display_name": "Python 3",
   "language": "python",
   "name": "python3"
  },
  "language_info": {
   "codemirror_mode": {
    "name": "ipython",
    "version": 3
   },
   "file_extension": ".py",
   "mimetype": "text/x-python",
   "name": "python",
   "nbconvert_exporter": "python",
   "pygments_lexer": "ipython3",
   "version": "3.10.4"
  }
 },
 "nbformat": 4,
 "nbformat_minor": 5
}
