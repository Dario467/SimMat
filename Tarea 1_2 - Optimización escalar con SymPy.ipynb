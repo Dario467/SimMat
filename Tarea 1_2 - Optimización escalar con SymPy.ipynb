{
 "cells": [
  {
   "cell_type": "markdown",
   "metadata": {
    "id": "wQWrkxnk8xAz"
   },
   "source": [
    "# Problemas de optimización escalar\n",
    "Resuelva los siguientes problemas usando la librería `SymPy`. Use celdas en `Markdown` para explicar su procedimiento, así como los resultados obtenidos."
   ]
  },
  {
   "cell_type": "markdown",
   "metadata": {
    "id": "7c9ab28c82ao"
   },
   "source": [
    "1. El perímetro de un triángulo isósceles es de $10 cm$. ¿Cuánto deben medir sus lados para que el volumen del cuerpo generado por la rotación del triángulo en torno a su base sea el mayor posible? (Volumen de un cono $= \\frac{1}{3}\\pi r^2 h$, donde $r$ es el radio de la base y $h$ la altura del cono)."
   ]
  },
  {
   "cell_type": "code",
   "execution_count": null,
   "metadata": {},
   "outputs": [],
   "source": [
    "import sympy as sym\n",
    "import numpy as np\n",
    "import matplotlib.pyplot as plt\n",
    "\n",
    "# P = 2L + b por lo que 10 = 2L + b eso quiere decir que l = (10-b)/2\n",
    "# Sabemos por pitagora que la altura la cual es el cateto opuesto es h = sqrt((L**2)-((b**2)/2))\n",
    "# Sustituyendo L nos queda h = sqrt((((10-b)/2)**2)-((b**2)/4))\n",
    "# Sustituyendo h en la ecuacion de volume y tomando en cuenta que el radio de la base es la base\n",
    "# del triangulo entre 2:\n",
    "# v(b) = (pi/3)*((b/2)**2)*sqrt((((10-b)/2)**2)-((b**2)/4))\n",
    "\n",
    "b = sym.var('b')\n",
    "v = (sym.pi/3)*((b/2)**2)*(((((10-b)/2)**2)-((b**2)/4))**0.5)\n",
    "print(v)\n",
    "dv = sym.diff(v,b)\n",
    "c = sym.solve(dv,b)\n",
    "print(c)\n",
    "\n",
    "b_num = np.linspace(0, 5, 400)\n",
    "v_fun = sym.lambdify(b,v,'numpy')\n",
    "plt.plot(b_num, v_fun(b_num))\n",
    "plt.plot(c[1], v_fun(c[1]), 'r*', ms=10)\n",
    "plt.grid()\n",
    "plt.show()\n",
    "\n",
    "print(f\"Con esto obtenemos que b max es {v_fun(c[1])}\")\n",
    "print(f\"Sustituimos b max en la formula de lado y creo que asi obtenemos lado max es: \")\n",
    "l_max = ((10-c[1])/2)\n",
    "print(l_max)"
   ]
  },
  {
   "cell_type": "markdown",
   "metadata": {
    "id": "1kvio5Eq8_J4"
   },
   "source": [
    "2. Disponemos de una barra de aluminio de 6 metros para construir una portería de fútbol. Si queremos que el área de la portería sea máxima, ¿cuánto deben medir los postes y el travesaño?"
   ]
  },
  {
   "cell_type": "code",
   "execution_count": null,
   "metadata": {
    "id": "crqDqG8z9EjH"
   },
   "outputs": [],
   "source": [
    "import sympy as sym\n",
    "import numpy as np\n",
    "import matplotlib.pyplot as plt\n",
    "\n",
    "# Area es igual a  A = x*y\n",
    "# 6 = 2*x + y asi que y = 6 - 2*x\n",
    "# A = x * (6-2x)\n",
    "# A = 6*x - 2*x**2\n",
    "\n",
    "def A(x):\n",
    "    return 6*x - 2*(x**2)\n",
    "\n",
    "x = sym.var('x',real=True,positive=True)\n",
    "\n",
    "da = sym.diff(A(x),x)\n",
    "c = sym.solve(da, x)\n",
    "print(\"ejercisio 2 punto critico: \")\n",
    "print(c)\n",
    "\n",
    "x_num = np.linspace(0, 6, 400)\n",
    "plt.plot(x_num, A(x_num))\n",
    "plt.plot(c[0], A(c[0]), 'r*', ms=10)\n",
    "plt.grid()\n",
    "plt.show()\n",
    "\n",
    "print(f\"Por lo que el area maxima formada por un tubo de 6 metros es de {float(A(c[0]))} metros\")"
   ]
  }
 ],
 "metadata": {
  "colab": {
   "authorship_tag": "ABX9TyNmcApJMgV4YoB+3EHEp0gf",
   "provenance": []
  },
  "kernelspec": {
   "display_name": "Python 3",
   "name": "python3"
  },
  "language_info": {
   "name": "python"
  }
 },
 "nbformat": 4,
 "nbformat_minor": 0
}
