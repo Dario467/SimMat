{
  "nbformat": 4,
  "nbformat_minor": 0,
  "metadata": {
    "colab": {
      "provenance": []
    },
    "kernelspec": {
      "name": "python3",
      "display_name": "Python 3"
    },
    "language_info": {
      "name": "python"
    }
  },
  "cells": [
    {
      "cell_type": "markdown",
      "source": [
        "#Optimización de procesos escalables para la fabricación de AgNPs"
      ],
      "metadata": {
        "id": "3XZ3FcIBwdff"
      }
    },
    {
      "cell_type": "markdown",
      "source": [
        "## Objetivos\n",
        "\n",
        "\n",
        "###General\n",
        "Evaluar y optimizar los parámetros experimentales para la obtención de _Nanopartículas de Plata (AgNPs)_\n",
        "\n",
        "###Específicos\n",
        "\n",
        "\n",
        "*   Maximizar Volumen útil\n",
        "*   Minimizar Costo total\n",
        "*   Minimizar Tamaño promedio de partícula\n",
        "\n"
      ],
      "metadata": {
        "id": "gJpfipzawx1P"
      }
    },
    {
      "cell_type": "markdown",
      "source": [
        "#Planteamiento del problema\n",
        "\n",
        "Se cuenta con un laboratorio de química común, con el equipo necesario para almacenar de manera útil y segura tan solo 100 mL de solución sintetizada de AgNPs por sesión.\n",
        "\n",
        "Se desea obtener AgNPs por método de Turkevich utilizando Nitrato de Plata como precursor y diferentes agentes reductores así como estabilizantes para la reacción, de modo que se obtenga la mayor cantidad de partículas, en el menor tamaño posible, minimizando el costo de producción sin salir de los estándares de calidad.\n",
        "\n",
        "La mezcla debe tener una calidad efectiva mínima del 50 %"
      ],
      "metadata": {
        "id": "G0SYihpT_F8g"
      }
    },
    {
      "cell_type": "markdown",
      "source": [
        "## Modelo que representa el problema.\n",
        "\n",
        "| Agente Reductor | Precursor | Estabilizador| Costo por mL de Solución | Volumen Útil (en mL por cada mL) | Tamaño promedio de partícula (nm) | Calidad relativa(%)​ |\n",
        "| :--- | :---: | :---: | :---: | :---: | :---: |---: |\n",
        "| Citrato de Sodio | AgNO3 | -​ | 0.0294​ | 0.8​ | 30 | 40 |\n",
        "| Borohidruro de Sodio | AgNO3 | Citrato de Sodio​ | 0.0343​ | 0.95​| 6 |90|\n",
        "| Ácido Ascórbico | AgNO3 | PVP | 0.2540​ | 0.9​| 17.5​ |80|\n",
        "| Extracto vegetal | AgNO3 | -​ | 0.0288​ | 0.4​ | 165​ | 10 |\n",
        "| Ácido Tánico | AgNO3| Citrato de Sodio​ | 0.0295 | 8.5​ | 10​ | 85 |\n",
        "\n",
        "<br>\n",
        "x1, x2, x3, x4, x5 = Citrato de Sodio, Borohidruro de Sodio, Ácido Ascórbico, Extracto vegetal, Ácido Tánico\n",
        "\n",
        "### Restricciones\n",
        "* Restricción de calidad efectiva:\n",
        "$$\\sum_{i=1}^{5} (\\text{volumen útil}_i \\cdot \\text{calidad}_i) \\, x_i \\ge 50*100$$\n",
        "Por medio de el volumen util por la calidad obtenemos la calidad efectiva y por la restriccion sabemos que la calidad efectiva mínima del 50 % en un volumen total de 100 mL\n",
        "* Restricción volumen:\n",
        "$$x1 + x2 + x3 + x4 + x5 = 100$$\n",
        "<br>\n",
        "\n",
        "## Función objetivo\n",
        "$$\n",
        "\\min f(x) \\;=\\; \\sum_{i=1}^{5} \\big(\\text{preciox}_i + 0.01\\cdot\\text{tamañox}_i - \\text{volumen útilx}_i\\big)\\; x_i\n",
        "$$\n",
        "Esto para agrupar los tres objetivos; el costo y el tamaño positivos por que los queremos minimizar, mientras que el volumen util negativo por que lo queremos maximizar.\n",
        "<br>\n",
        "\n",
        "Escalamos el tamaño en relación a los precios con 0.1, para no derale mayor peso al tamaño\n"
      ],
      "metadata": {
        "id": "78h6hx6BUTB7"
      }
    },
    {
      "cell_type": "markdown",
      "source": [
        "## Solución del problema de optimización."
      ],
      "metadata": {
        "id": "VkpaoC6IUaXx"
      }
    },
    {
      "cell_type": "code",
      "source": [
        "import numpy as np\n",
        "import scipy.optimize as opt\n",
        "import matplotlib.pyplot as plt\n",
        "\n",
        "# volumen de 0 a 100\n",
        "volumen = np.linspace(0, 100, 100)\n",
        "\n",
        "\n",
        "plt.plot(volumen, 32.0*volumen, label=\"Citrato de Sodio\")\n",
        "plt.plot(volumen, 85.5*volumen, label=\"Borohidruro de Sodio\")\n",
        "plt.plot(volumen, 72.0*volumen, label=\"Ácido Ascórbico\")\n",
        "plt.plot(volumen, 4.0*volumen, label=\"Extracto vegetal\")\n",
        "plt.plot(volumen, 72.25*volumen, label=\"Ácido Tánico\")\n",
        "\n",
        "plt.title(\"Relación entre volumen en ml y calidad efectiva por ingrediente\")\n",
        "plt.xlabel(\"Volumen\")\n",
        "plt.ylabel(\"Calidad efectiva total\")\n",
        "plt.grid()\n",
        "plt.show()"
      ],
      "metadata": {
        "id": "N3OPznRvJCnD"
      },
      "execution_count": null,
      "outputs": []
    },
    {
      "cell_type": "code",
      "source": [
        "c = np.array([\n",
        "    0.030 + 30*0.01 - 0.8,   # Citrato de Sodio\n",
        "    0.035 + 6*0.01 - 0.95,   # Borohidruro de Sodio\n",
        "    0.250 + 17.5*0.01 - 0.9, # Ácido Ascórbico\n",
        "    0.029 + 165*0.01 - 0.4,  # Extracto vegetal\n",
        "    0.030 + 10*0.01 - 0.85   # Ácido Tánico\n",
        "])\n",
        "\n",
        "# Restricciones de calidad efectiva\n",
        "A_ub = np.array([\n",
        "    [-32.0, -85.5, -72.0, -4.0, -72.25]  # -vol util*calidad <= -50*100\n",
        "])\n",
        "b_ub = np.array([-5000]) # restriccion\n",
        "\n",
        "# Restricción de igualdad\n",
        "A_eq = np.array([[1, 1, 1, 1, 1]])\n",
        "b_eq = np.array([100])\n",
        "\n",
        "# Límites de cada variable (para evitar desbordes)\n",
        "bounds = [(0, 100), (0, 100), (0, 100), (0, 100), (0, 100)]\n",
        "\n",
        "# Resolver\n",
        "resultado = opt.linprog(c, A_ub=A_ub, b_ub=b_ub, A_eq=A_eq, b_eq=b_eq, bounds=bounds)\n",
        "print(resultado[\"x\"])\n",
        "print(f\"Esto nos dice que lo mas optimo es usar 100ml de Borohidruro de Sodio\")\n",
        "\n"
      ],
      "metadata": {
        "id": "IfVpzTB-UfXC",
        "colab": {
          "base_uri": "https://localhost:8080/"
        },
        "outputId": "35c6c055-3454-499c-8582-61e5bcfde644"
      },
      "execution_count": null,
      "outputs": [
        {
          "output_type": "stream",
          "name": "stdout",
          "text": [
            "[  0. 100.   0.   0.  -0.]\n"
          ]
        }
      ]
    },
    {
      "cell_type": "markdown",
      "source": [
        "## Conclusiones:\n",
        "\n",
        "Se necesita sintetizar 100 mL de AgNO₄ + NaBH₄ con citrato de sodio como estabilizador, de manera que se obtendrán 95 mL de volumen útil de AgNPs de 6 nanómetros de tamaño promedio con una calidad del 90%\n",
        "\n",
        "En conclusión, al ajustar bien la cantidad agente reductor y de estabilizador en el método de Turkevich, logramos producir nanopartículas de plata de tamaño pequeño y uniforme, de manera fácil y repetible sin necesidad de condiciones tan extremas o especificas en un laboratorio. Este método es de los más efectivo para obtener buenos resultados."
      ],
      "metadata": {
        "id": "NmWqTeoqUexA"
      }
    },
    {
      "cell_type": "markdown",
      "source": [
        "## Referencias."
      ],
      "metadata": {
        "id": "1ej1Gw60XHAu"
      }
    }
  ]
}