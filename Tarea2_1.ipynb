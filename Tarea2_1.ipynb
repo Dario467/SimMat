{
 "cells": [
  {
   "cell_type": "markdown",
   "metadata": {},
   "source": [
    "# Tarea - Caminata aleatoria y simulación de apuestas"
   ]
  },
  {
   "cell_type": "markdown",
   "metadata": {},
   "source": [
    "#### 1. Simulación del movimiento browniano\n",
    "\n",
    "El movimiento browniano es el movimiento aleatorio que se observa en las partículas que se hallan en un medio fluido, como resultado de choques contra las moléculas de dicho fluido [(referencia)].\n",
    "\n",
    "[(referencia)]: https://es.wikipedia.org/wiki/Movimiento_browniano\n",
    "\n",
    "Para simular el movimiento, en lugar de usar las ecuaciones integro-diferenciales que describe Einstein, use una caminta aleatoria para los tres ejes $x$, $y$, $z$ de la siguiente forma\n",
    "$$\n",
    "W_i=W_{i-1}+X_i\\sqrt{\\Delta t}\n",
    "$$\n",
    "donde, $\\Delta t=0.001$ es un intervalo de tiempo y \n",
    "$$\n",
    "X_i=\\left\\{\\begin{array}{l}\n",
    "1\\\\\n",
    "-1\n",
    "\\end{array}\\right.,\n",
    "$$\n",
    "se escoge de forma aleatoria con la misma probabilidad.\n",
    "\n",
    "Simule tres caminatas con $10$ segundos (10000 pasos) y represéntelo en un gráfico 3D."
   ]
  },
  {
   "cell_type": "code",
   "execution_count": null,
   "metadata": {},
   "outputs": [],
   "source": [
    "import numpy as np\n",
    "import matplotlib.pyplot as plt\n",
    "\n",
    "\n",
    "def caminata(n_pasos,xi,delT):\n",
    "    x = [0]\n",
    "    y = [0]\n",
    "    z = [0]\n",
    "    for i in range(1,n_pasos):\n",
    "        pasox = np.random.choice([xi, -xi])\n",
    "        pasoy = np.random.choice([xi, -xi])\n",
    "        pasoz = np.random.choice([xi, -xi])\n",
    "        x.append(x[-1]+ pasox*delT)\n",
    "        y.append(y[-1] + pasoy*delT)\n",
    "        z.append(z[-1] + pasoz*delT)\n",
    "    return x,y,z\n",
    "\n",
    "\n",
    "xi = 1\n",
    "delta_t = np.sqrt(0.001)\n",
    "\n",
    "for i in range(3):\n",
    "    x, y, z = caminata(10000, xi, delta_t)\n",
    "    plt.plot(x,y,z)\n",
    "plt.grid()\n",
    "plt.show()"
   ]
  },
  {
   "cell_type": "markdown",
   "metadata": {},
   "source": [
    "Modifique la caminata anterior de tal forma que solo le regrese la última posición."
   ]
  },
  {
   "cell_type": "code",
   "execution_count": null,
   "metadata": {},
   "outputs": [],
   "source": [
    "def caminata_ult_pos(n_pasos,xi,delT):\n",
    "    x = 0\n",
    "    y = 0\n",
    "    z = 0\n",
    "    for i in range(n_pasos):\n",
    "        pasox = np.random.choice([xi, -xi])\n",
    "        pasoy = np.random.choice([xi, -xi])\n",
    "        pasoz = np.random.choice([xi, -xi])\n",
    "        x += pasox*delT\n",
    "        y += pasoy*delT\n",
    "        z += pasoz*delT\n",
    "    return x,y,z"
   ]
  },
  {
   "cell_type": "markdown",
   "metadata": {},
   "source": [
    "Simule 1000 caminatas con este nuevo modelo de movimiento browniano y diga la probabilidad de que las partículas satisfagan $x>1$, $y>2$ y $z>0$."
   ]
  },
  {
   "cell_type": "code",
   "execution_count": null,
   "metadata": {},
   "outputs": [],
   "source": [
    "caminatasx = []\n",
    "caminatasy = []\n",
    "caminatasz = []\n",
    "for i in range(1000):\n",
    "    x,y,z = caminata_ult_pos(2000, xi, delta_t)\n",
    "    caminatasx.append(x)\n",
    "    caminatasy.append(y)\n",
    "    caminatasz.append(z)\n",
    "\n",
    "x = np.array(caminatasx)>1\n",
    "y = np.array(caminatasx)>2\n",
    "z = np.array(caminatasx)>0\n",
    "\n",
    "print(f\"La probabilidad de que x satisfaga x>1 es de {x.mean()}\")\n",
    "print(f\"La probabilidad de que y satisfaga y>2 es de {y.mean()}\")\n",
    "print(f\"La probabilidad de que z satisfaga z>0 es de {z.mean()}\")"
   ]
  },
  {
   "cell_type": "markdown",
   "metadata": {},
   "source": [
    "#### 2. Apuesta arriesgada\n",
    "\n",
    "Un jugador, con 20 pesos de capital inicial, decide apostar a un volado (con una moneda perfectamente nivelada) la mitad de su capital si éste es mayor o igual a 6 pesos, de lo contrario, solo 2. Esto es, el capital $C_i$ en cada volado $V_i$ se describe como\n",
    "$$\n",
    "C_{i+1}=C_i+V_iA_i\n",
    "$$\n",
    "donde la apuesta es \n",
    "$$\n",
    "A_i =\n",
    "\\begin{cases}\n",
    "\\dfrac{C_i}{2}, & \\text{si } C_i \\ge 6,\\\\[6pt]\n",
    "2, & \\text{de lo contrario.}\n",
    "\\end{cases}\n",
    "$$\n",
    "\n",
    "1. Grafique la evolución del capital hasta quedar en cero."
   ]
  },
  {
   "cell_type": "code",
   "execution_count": null,
   "metadata": {},
   "outputs": [],
   "source": [
    "def caminata2(c):\n",
    "    c_arr = [np.float64(c)]\n",
    "    while c >= 2:\n",
    "        a = 2\n",
    "        v = np.random.choice([1, -1])\n",
    "        if c >= 6:\n",
    "            a = c / 2\n",
    "        c += v * a\n",
    "        c_arr.append(c)\n",
    "    return c_arr\n",
    "\n",
    "\n",
    "res = caminata2(20)\n",
    "plt.plot(res)\n",
    "plt.grid()\n",
    "plt.show()"
   ]
  },
  {
   "cell_type": "markdown",
   "metadata": {},
   "source": [
    "2. Determine el número de volados promedio para quedar en quiebra usando la simulación montecarlo para 10,000 apostadores."
   ]
  },
  {
   "cell_type": "code",
   "execution_count": null,
   "metadata": {},
   "outputs": [],
   "source": [
    "def caminata_num_v(c):\n",
    "    pasos = 0\n",
    "    while c >= 2:\n",
    "        a = 2\n",
    "        v = np.random.choice([1, -1])\n",
    "        if c >= 6:\n",
    "            a = c / 2\n",
    "        c += v * a\n",
    "        pasos += 1\n",
    "    return pasos\n",
    "\n",
    "\n",
    "apostadores_v = []\n",
    "for i in range(10000):\n",
    "    apostadores_v.append(caminata_num_v(20))\n",
    "promedio = np.mean(apostadores_v)\n",
    "print(f\"el numero de volados promedio para 10000 apostadores con una capital inicial de 20 es de {promedio}\")"
   ]
  },
  {
   "cell_type": "markdown",
   "metadata": {},
   "source": [
    "3. Muestre un histograma del número de volados."
   ]
  },
  {
   "cell_type": "code",
   "execution_count": null,
   "metadata": {},
   "outputs": [],
   "source": [
    "plt.hist(apostadores_v, bins=100, edgecolor='black')\n",
    "plt.grid()\n",
    "plt.show()"
   ]
  }
 ],
 "metadata": {
  "kernelspec": {
   "display_name": "Python 3 (ipykernel)",
   "language": "python",
   "name": "python3"
  },
  "language_info": {
   "codemirror_mode": {
    "name": "ipython",
    "version": 3
   },
   "file_extension": ".py",
   "mimetype": "text/x-python",
   "name": "python",
   "nbconvert_exporter": "python",
   "pygments_lexer": "ipython3",
   "version": "3.11.5"
  }
 },
 "nbformat": 4,
 "nbformat_minor": 2
}
